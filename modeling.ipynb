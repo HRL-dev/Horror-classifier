{
 "cells": [
  {
   "cell_type": "markdown",
   "metadata": {},
   "source": [
    "I think one of the most important parts of making this classifier model is determining what, exactly, are the main nominal differences between r/nosleep and r/creepypasta? Do they serve the same communities? And within those communities, do they serve the same, or at least similar, purposes?"
   ]
  },
  {
   "cell_type": "markdown",
   "metadata": {},
   "source": [
    "According to the responses to [this post](https://www.reddit.com/r/NoSleepOOC/comments/89etyy/whats_the_difference_between_a_no_sleep_and_a/), \"creepypasta\" is more of a general term encompassing scary/weird things on the internet, while r/nosleep is a subreddit specifically dedicated to original horror fiction."
   ]
  },
  {
   "cell_type": "markdown",
   "metadata": {},
   "source": [
    "Given this information, we believe that r/nosleep contains information that would be more relevant to the horror novel publisher's interests. However, the publisher was pushing hard for r/creepypasta, given that it's the horror subreddit they'd heard of first. We maintain that nosleep has better horror and fewer posters who write  inclinations. Let's develop a model that can tell the difference between the two subreddits to prove our hypothesis: that they have fundamentally different content and serve different sections of the horror community, and nosleep is objectively better for original content."
   ]
  },
  {
   "cell_type": "markdown",
   "metadata": {},
   "source": [
    "Importing libraries:"
   ]
  },
  {
   "cell_type": "code",
   "execution_count": 1,
   "metadata": {},
   "outputs": [],
   "source": [
    "import numpy as np\n",
    "import pandas as pd\n",
    "import matplotlib.pyplot as plt\n",
    "\n",
    "from sklearn.linear_model import LogisticRegression\n",
    "from sklearn.model_selection import train_test_split, GridSearchCV, StratifiedKFold\n",
    "from sklearn.feature_extraction.text import CountVectorizer, TfidfVectorizer\n",
    "from sklearn.pipeline import Pipeline\n",
    "from sklearn.naive_bayes import MultinomialNB\n",
    "from sklearn.metrics import confusion_matrix, plot_confusion_matrix\n",
    "from sklearn.ensemble import RandomForestClassifier"
   ]
  },
  {
   "cell_type": "markdown",
   "metadata": {},
   "source": [
    "Reading in my horror subreddit data:"
   ]
  },
  {
   "cell_type": "code",
   "execution_count": 2,
   "metadata": {},
   "outputs": [],
   "source": [
    "horror = pd.read_csv('./Data/combo.csv')"
   ]
  },
  {
   "cell_type": "markdown",
   "metadata": {},
   "source": [
    "Now, we're going to turn the subreddit column into 0s and 1s, with 1 = nosleep, and 0 = creepypasta."
   ]
  },
  {
   "cell_type": "code",
   "execution_count": 3,
   "metadata": {},
   "outputs": [],
   "source": [
    "horror['subreddit'] = horror.subreddit.map({'creepypasta' : 0, 'nosleep' : 1,})"
   ]
  },
  {
   "cell_type": "code",
   "execution_count": 4,
   "metadata": {},
   "outputs": [
    {
     "data": {
      "text/html": [
       "<div>\n",
       "<style scoped>\n",
       "    .dataframe tbody tr th:only-of-type {\n",
       "        vertical-align: middle;\n",
       "    }\n",
       "\n",
       "    .dataframe tbody tr th {\n",
       "        vertical-align: top;\n",
       "    }\n",
       "\n",
       "    .dataframe thead th {\n",
       "        text-align: right;\n",
       "    }\n",
       "</style>\n",
       "<table border=\"1\" class=\"dataframe\">\n",
       "  <thead>\n",
       "    <tr style=\"text-align: right;\">\n",
       "      <th></th>\n",
       "      <th>subreddit</th>\n",
       "      <th>title</th>\n",
       "      <th>selftext</th>\n",
       "    </tr>\n",
       "  </thead>\n",
       "  <tbody>\n",
       "    <tr>\n",
       "      <th>0</th>\n",
       "      <td>1</td>\n",
       "      <td>Biter</td>\n",
       "      <td>I hope I titled this right, because that's wh...</td>\n",
       "    </tr>\n",
       "    <tr>\n",
       "      <th>1</th>\n",
       "      <td>1</td>\n",
       "      <td>Jacob</td>\n",
       "      <td>As the new school year approached,  my son’s f...</td>\n",
       "    </tr>\n",
       "    <tr>\n",
       "      <th>2</th>\n",
       "      <td>1</td>\n",
       "      <td>The isolation</td>\n",
       "      <td>\\n\\nSince I’ve been at home, I’ve been readi...</td>\n",
       "    </tr>\n",
       "    <tr>\n",
       "      <th>3</th>\n",
       "      <td>1</td>\n",
       "      <td>Music Box</td>\n",
       "      <td>When I was younger, I was super into all thing...</td>\n",
       "    </tr>\n",
       "    <tr>\n",
       "      <th>4</th>\n",
       "      <td>1</td>\n",
       "      <td>A new Instagram influencer is obsessed with me...</td>\n",
       "      <td>Tiffany Fontaine. I loved her name because it ...</td>\n",
       "    </tr>\n",
       "  </tbody>\n",
       "</table>\n",
       "</div>"
      ],
      "text/plain": [
       "   subreddit                                              title  \\\n",
       "0          1                                              Biter   \n",
       "1          1                                              Jacob   \n",
       "2          1                                      The isolation   \n",
       "3          1                                          Music Box   \n",
       "4          1  A new Instagram influencer is obsessed with me...   \n",
       "\n",
       "                                            selftext  \n",
       "0   I hope I titled this right, because that's wh...  \n",
       "1  As the new school year approached,  my son’s f...  \n",
       "2    \\n\\nSince I’ve been at home, I’ve been readi...  \n",
       "3  When I was younger, I was super into all thing...  \n",
       "4  Tiffany Fontaine. I loved her name because it ...  "
      ]
     },
     "execution_count": 4,
     "metadata": {},
     "output_type": "execute_result"
    }
   ],
   "source": [
    "horror.head()"
   ]
  },
  {
   "cell_type": "markdown",
   "metadata": {},
   "source": [
    "Assigning X and y variables:"
   ]
  },
  {
   "cell_type": "code",
   "execution_count": 4,
   "metadata": {},
   "outputs": [],
   "source": [
    "X = horror['selftext']\n",
    "y = horror['subreddit']"
   ]
  },
  {
   "cell_type": "markdown",
   "metadata": {},
   "source": [
    "Let's get a gander at our baseline model:"
   ]
  },
  {
   "cell_type": "code",
   "execution_count": 5,
   "metadata": {},
   "outputs": [
    {
     "data": {
      "text/plain": [
       "0    0.510338\n",
       "1    0.489662\n",
       "Name: subreddit, dtype: float64"
      ]
     },
     "execution_count": 5,
     "metadata": {},
     "output_type": "execute_result"
    }
   ],
   "source": [
    "y.value_counts(normalize = True)"
   ]
  },
  {
   "cell_type": "markdown",
   "metadata": {},
   "source": [
    "Okay, so if we predicted creepypasta (0) for every post, we'd be right 51% of the time."
   ]
  },
  {
   "cell_type": "markdown",
   "metadata": {},
   "source": [
    "We have a pretty close to even split in the subreddit column. I already knew that because I collected the data, but it's nice to see it all laid out in percentages. Now, I'll train-test split:"
   ]
  },
  {
   "cell_type": "code",
   "execution_count": 6,
   "metadata": {},
   "outputs": [],
   "source": [
    "X_train, X_test, y_train, y_test = train_test_split(X,\n",
    "                                                    y,\n",
    "                                                    test_size=0.33,\n",
    "                                                    stratify=y,\n",
    "                                                    random_state=42)"
   ]
  },
  {
   "cell_type": "markdown",
   "metadata": {},
   "source": [
    "I want to CountVectorize my data, but I also want to run a classifier model, so I'm going to use a pipeline. The classifier model I'm going to use first is Multinomial Naïve Bayes, because I want to calculate the probability that a given post is in nosleep given the words that are in the post. Let's get that started:"
   ]
  },
  {
   "cell_type": "code",
   "execution_count": 96,
   "metadata": {},
   "outputs": [],
   "source": [
    "pipe = Pipeline([\n",
    "    ('cvec', CountVectorizer()),\n",
    "    ('nb', MultinomialNB())\n",
    "])"
   ]
  },
  {
   "cell_type": "markdown",
   "metadata": {},
   "source": [
    "Okay, now I'm going to GridSearch over the CountVectorizer to determine the best parameters. I'm going to set the parameters dictionary first. I'm putting in max_df options of .5, .75, and .85 - keeping it relatively low to try to keep the best words. The max features don't need to be above 1,000 I don't THINK, but we'll test it at 2,000 as well. We'll include both 1- and 2-word n-grams, even though our previous results didn't bring up anything interesting with 2-word n-grams, but we'll throw it in there just in case."
   ]
  },
  {
   "cell_type": "code",
   "execution_count": 71,
   "metadata": {},
   "outputs": [],
   "source": [
    "params = {'cvec__max_features' : [1000, 2000],\n",
    "          'cvec__min_df' : [.05, .10],\n",
    "          'cvec__max_df' : [.5, .75, .85],\n",
    "          'cvec__ngram_range' : [(1,1), (1,2)]}"
   ]
  },
  {
   "cell_type": "markdown",
   "metadata": {},
   "source": [
    "I'll stratify my target variable for cross-val, because it's not a shuffled dataframe."
   ]
  },
  {
   "cell_type": "code",
   "execution_count": 10,
   "metadata": {},
   "outputs": [],
   "source": [
    "cv_folds = StratifiedKFold(shuffle = True, random_state = 42)"
   ]
  },
  {
   "cell_type": "code",
   "execution_count": 127,
   "metadata": {},
   "outputs": [],
   "source": [
    "grid = GridSearchCV(pipe,\n",
    "                  params,\n",
    "                  cv = cv_folds,\n",
    "                 verbose = 1,\n",
    "                   n_jobs = -2)"
   ]
  },
  {
   "cell_type": "code",
   "execution_count": 128,
   "metadata": {},
   "outputs": [
    {
     "data": {
      "text/plain": [
       "(1425,)"
      ]
     },
     "execution_count": 128,
     "metadata": {},
     "output_type": "execute_result"
    }
   ],
   "source": [
    "X_train.shape"
   ]
  },
  {
   "cell_type": "markdown",
   "metadata": {},
   "source": [
    "Okay, let's fit it! This is probably going to take a really long time!"
   ]
  },
  {
   "cell_type": "code",
   "execution_count": 129,
   "metadata": {},
   "outputs": [
    {
     "name": "stdout",
     "output_type": "stream",
     "text": [
      "Fitting 5 folds for each of 24 candidates, totalling 120 fits\n"
     ]
    },
    {
     "name": "stderr",
     "output_type": "stream",
     "text": [
      "[Parallel(n_jobs=-2)]: Using backend LokyBackend with 3 concurrent workers.\n",
      "[Parallel(n_jobs=-2)]: Done  44 tasks      | elapsed:  1.3min\n",
      "[Parallel(n_jobs=-2)]: Done 120 out of 120 | elapsed:  3.8min finished\n"
     ]
    },
    {
     "data": {
      "text/plain": [
       "GridSearchCV(cv=StratifiedKFold(n_splits=5, random_state=42, shuffle=True),\n",
       "             estimator=Pipeline(steps=[('cvec', CountVectorizer()),\n",
       "                                       ('nb', MultinomialNB())]),\n",
       "             n_jobs=-2,\n",
       "             param_grid={'cvec__max_df': [0.5, 0.75, 0.85],\n",
       "                         'cvec__max_features': [1000, 2000],\n",
       "                         'cvec__min_df': [0.05, 0.1],\n",
       "                         'cvec__ngram_range': [(1, 1), (1, 2)]},\n",
       "             verbose=1)"
      ]
     },
     "execution_count": 129,
     "metadata": {},
     "output_type": "execute_result"
    }
   ],
   "source": [
    "grid.fit(X_train, y_train)"
   ]
  },
  {
   "cell_type": "markdown",
   "metadata": {},
   "source": [
    "That's that! Let's see our best parameters:"
   ]
  },
  {
   "cell_type": "code",
   "execution_count": 130,
   "metadata": {},
   "outputs": [
    {
     "data": {
      "text/plain": [
       "{'cvec__max_df': 0.5,\n",
       " 'cvec__max_features': 2000,\n",
       " 'cvec__min_df': 0.05,\n",
       " 'cvec__ngram_range': (1, 1)}"
      ]
     },
     "execution_count": 130,
     "metadata": {},
     "output_type": "execute_result"
    }
   ],
   "source": [
    "grid.best_params_"
   ]
  },
  {
   "cell_type": "markdown",
   "metadata": {},
   "source": [
    "Interestingly, the lowest max_df I chose became the best max_df for this particular model! Aaaand our scores:"
   ]
  },
  {
   "cell_type": "code",
   "execution_count": 131,
   "metadata": {},
   "outputs": [
    {
     "data": {
      "text/plain": [
       "0.6912280701754385"
      ]
     },
     "execution_count": 131,
     "metadata": {},
     "output_type": "execute_result"
    }
   ],
   "source": [
    "grid.best_score_"
   ]
  },
  {
   "cell_type": "code",
   "execution_count": 132,
   "metadata": {},
   "outputs": [
    {
     "data": {
      "text/plain": [
       "0.6927453769559033"
      ]
     },
     "execution_count": 132,
     "metadata": {},
     "output_type": "execute_result"
    }
   ],
   "source": [
    "grid.score(X_test, y_test)"
   ]
  },
  {
   "cell_type": "markdown",
   "metadata": {},
   "source": [
    "Okay, so not a GREAT accuracy score, but certainly better than the baseline model, by about 18 percentage points! Let's look at a confusion matrix and the specificity of the model before we try another pipeline/model:"
   ]
  },
  {
   "cell_type": "code",
   "execution_count": 133,
   "metadata": {},
   "outputs": [],
   "source": [
    "preds = grid.predict(X_test)\n",
    "\n",
    "tn, fp, fn, tp = confusion_matrix(y_test, preds).ravel()"
   ]
  },
  {
   "cell_type": "code",
   "execution_count": 134,
   "metadata": {},
   "outputs": [
    {
     "data": {
      "image/png": "[encoded data removed]",
      "text/plain": [
       "<Figure size 432x288 with 2 Axes>"
      ]
     },
     "metadata": {
      "needs_background": "light"
     },
     "output_type": "display_data"
    }
   ],
   "source": [
    "plot_confusion_matrix(grid, X_test, y_test, cmap='ocean_r', values_format='d')\n",
    "plt.title('Confusion Matrix for CVec/MNB Pipeline');"
   ]
  },
  {
   "cell_type": "markdown",
   "metadata": {},
   "source": [
    "Looks not so hot at first glance. Let's get the sensitivity (how right is this model for determining which post belongs in nosleep?):"
   ]
  },
  {
   "cell_type": "code",
   "execution_count": 135,
   "metadata": {},
   "outputs": [
    {
     "data": {
      "text/plain": [
       "0.6598837209302325"
      ]
     },
     "execution_count": 135,
     "metadata": {},
     "output_type": "execute_result"
    }
   ],
   "source": [
    "tp / (tp + fn)"
   ]
  },
  {
   "cell_type": "markdown",
   "metadata": {},
   "source": [
    "Okay! All in all, not the world's best model, but as far as being better than the baseline, we've succeeded. This model is correct when it classifies posts as nosleep 66% of the time! It may be that it is inherently difficult to distinguish between these two subreddits, but I hold to my belief that nosleep is inherently better, so I don't think this is the best we can do."
   ]
  },
  {
   "cell_type": "markdown",
   "metadata": {},
   "source": [
    "I'm going to try a Term Frequency-Inverse Document Frequency (TF-IDF) Vectorizer in a pipeline with my MultinomialNB model. I'll see which one works better (TF-IDF or CountVectorizer), and following that, I'll use the better vectorizer with Logistic Regression and RandomForest and see what we get. Fingers crossed!"
   ]
  },
  {
   "cell_type": "markdown",
   "metadata": {},
   "source": [
    "Setting up my pipeline with TF-IDF and Multinomial Naïve Bayes:"
   ]
  },
  {
   "cell_type": "code",
   "execution_count": 95,
   "metadata": {},
   "outputs": [],
   "source": [
    "pipe_2 = Pipeline([\n",
    "    ('tvec', TfidfVectorizer()),\n",
    "    ('nb', MultinomialNB())\n",
    "])"
   ]
  },
  {
   "cell_type": "markdown",
   "metadata": {},
   "source": [
    "In setting up the parameters for my tvec pipeline, I'm going to set max_features at either 1,000, 2,000, or 3,000. The max_df will be .5, .75, and .85, and the n-gram range will include 1- and 2-word n-grams:"
   ]
  },
  {
   "cell_type": "code",
   "execution_count": 97,
   "metadata": {},
   "outputs": [],
   "source": [
    "pipe_2_params = {\n",
    "    'tvec__max_features' : [1000, 2000, 3000],\n",
    "    'tvec__max_df' : [.5, .75, .85],\n",
    "    'tvec__ngram_range' : [(1, 1), (1, 2)]\n",
    "}"
   ]
  },
  {
   "cell_type": "markdown",
   "metadata": {},
   "source": [
    "Now I'll GridSearch over that pipeline - once again, this will probably take a while! See you on the other side!"
   ]
  },
  {
   "cell_type": "code",
   "execution_count": 136,
   "metadata": {},
   "outputs": [],
   "source": [
    "grid_2 = GridSearchCV(pipe_2,\n",
    "                      pipe_2_params,\n",
    "                      cv = cv_folds,\n",
    "                      verbose = 1,\n",
    "                      n_jobs = -2)"
   ]
  },
  {
   "cell_type": "code",
   "execution_count": 137,
   "metadata": {},
   "outputs": [
    {
     "name": "stdout",
     "output_type": "stream",
     "text": [
      "Fitting 5 folds for each of 18 candidates, totalling 90 fits\n"
     ]
    },
    {
     "name": "stderr",
     "output_type": "stream",
     "text": [
      "[Parallel(n_jobs=-2)]: Using backend LokyBackend with 3 concurrent workers.\n",
      "[Parallel(n_jobs=-2)]: Done  44 tasks      | elapsed:  1.4min\n",
      "[Parallel(n_jobs=-2)]: Done  90 out of  90 | elapsed:  2.7min finished\n"
     ]
    },
    {
     "data": {
      "text/plain": [
       "GridSearchCV(cv=StratifiedKFold(n_splits=5, random_state=42, shuffle=True),\n",
       "             estimator=Pipeline(steps=[('tvec', TfidfVectorizer()),\n",
       "                                       ('nb', MultinomialNB())]),\n",
       "             n_jobs=-2,\n",
       "             param_grid={'tvec__max_df': [0.5, 0.75, 0.85],\n",
       "                         'tvec__max_features': [1000, 2000, 3000],\n",
       "                         'tvec__ngram_range': [(1, 1), (1, 2)]},\n",
       "             verbose=1)"
      ]
     },
     "execution_count": 137,
     "metadata": {},
     "output_type": "execute_result"
    }
   ],
   "source": [
    "grid_2.fit(X_train, y_train)"
   ]
  },
  {
   "cell_type": "markdown",
   "metadata": {},
   "source": [
    "Okay, let's look at the best parameters:"
   ]
  },
  {
   "cell_type": "code",
   "execution_count": 138,
   "metadata": {},
   "outputs": [
    {
     "data": {
      "text/plain": [
       "{'tvec__max_df': 0.5, 'tvec__max_features': 2000, 'tvec__ngram_range': (1, 1)}"
      ]
     },
     "execution_count": 138,
     "metadata": {},
     "output_type": "execute_result"
    }
   ],
   "source": [
    "grid_2.best_params_"
   ]
  },
  {
   "cell_type": "markdown",
   "metadata": {},
   "source": [
    "Once again, the lowest max_df is the best parameter for these particular subreddits. Looking at the best score:"
   ]
  },
  {
   "cell_type": "code",
   "execution_count": 139,
   "metadata": {},
   "outputs": [
    {
     "data": {
      "text/plain": [
       "0.7501754385964913"
      ]
     },
     "execution_count": 139,
     "metadata": {},
     "output_type": "execute_result"
    }
   ],
   "source": [
    "grid_2.best_score_"
   ]
  },
  {
   "cell_type": "markdown",
   "metadata": {},
   "source": [
    "Significantly better than the accuracy score from the CountVectorize grid! And a > 20 percentage point increase in accuracy from our baseline. A step in the right direction! Now we'll look at the confusion matrix and sensitivity."
   ]
  },
  {
   "cell_type": "code",
   "execution_count": 140,
   "metadata": {},
   "outputs": [],
   "source": [
    "preds_2 = grid_2.predict(X_test)\n",
    "\n",
    "tn, fp, fn, tp = confusion_matrix(y_test, preds_2).ravel()"
   ]
  },
  {
   "cell_type": "code",
   "execution_count": 141,
   "metadata": {},
   "outputs": [
    {
     "data": {
      "image/png": "[encoded data removed]",
      "text/plain": [
       "<Figure size 432x288 with 2 Axes>"
      ]
     },
     "metadata": {
      "needs_background": "light"
     },
     "output_type": "display_data"
    }
   ],
   "source": [
    "plot_confusion_matrix(grid_2, X_test, y_test, cmap='ocean', values_format='d')\n",
    "plt.title('Confusion Matrix for TF-IDF/MNB Pipeline');"
   ]
  },
  {
   "cell_type": "code",
   "execution_count": 142,
   "metadata": {},
   "outputs": [
    {
     "data": {
      "text/plain": [
       "0.8430232558139535"
      ]
     },
     "execution_count": 142,
     "metadata": {},
     "output_type": "execute_result"
    }
   ],
   "source": [
    "tp / (tp + fn)"
   ]
  },
  {
   "cell_type": "markdown",
   "metadata": {},
   "source": [
    "Fascinating! So, our accuracy score jumped by 5 points, but our specificity jumped from the CV model by almost 20 points! Because I'm optimizing for sensitivity (how right is my model when deciding which post is nosleep), I would classify this as a success."
   ]
  },
  {
   "cell_type": "markdown",
   "metadata": {},
   "source": [
    "Moving on to the RandomForest model. I'm hoping for big things. Now I know that TF-IDF is better for the specificity of my model, so I'll use that in this pipeline. But I'll still test different parameters, just in case different parameters are better with RandomForest than with MultinomialNB:"
   ]
  },
  {
   "cell_type": "code",
   "execution_count": 19,
   "metadata": {},
   "outputs": [],
   "source": [
    "pipe_3 = Pipeline([\n",
    "    ('tvec', TfidfVectorizer()),\n",
    "    ('rf', RandomForestClassifier())\n",
    "])"
   ]
  },
  {
   "cell_type": "code",
   "execution_count": 20,
   "metadata": {},
   "outputs": [],
   "source": [
    "pipe_3_params = {\n",
    "    'tvec__max_features' : [2000, 3000],\n",
    "    'tvec__max_df' : [.5, .75],\n",
    "    'rf__n_estimators' : [70, 75, 100],\n",
    "    'rf__max_features' : [None, 'auto'],\n",
    "    'rf__max_depth' : [None, 5, 6]\n",
    "}"
   ]
  },
  {
   "cell_type": "markdown",
   "metadata": {},
   "source": [
    "Now we're fitting a few more models, so this will also take awhile! Catch you on the flip side:"
   ]
  },
  {
   "cell_type": "code",
   "execution_count": 21,
   "metadata": {},
   "outputs": [],
   "source": [
    "grid_3 = GridSearchCV(pipe_3,\n",
    "                      pipe_3_params,\n",
    "                      cv = cv_folds,\n",
    "                      verbose = 1,\n",
    "                      n_jobs = -2)"
   ]
  },
  {
   "cell_type": "code",
   "execution_count": 22,
   "metadata": {},
   "outputs": [
    {
     "name": "stdout",
     "output_type": "stream",
     "text": [
      "Fitting 5 folds for each of 72 candidates, totalling 360 fits\n"
     ]
    },
    {
     "name": "stderr",
     "output_type": "stream",
     "text": [
      "[Parallel(n_jobs=-2)]: Using backend LokyBackend with 3 concurrent workers.\n",
      "[Parallel(n_jobs=-2)]: Done  44 tasks      | elapsed: 16.0min\n",
      "[Parallel(n_jobs=-2)]: Done 194 tasks      | elapsed: 33.9min\n",
      "[Parallel(n_jobs=-2)]: Done 360 out of 360 | elapsed: 43.8min finished\n"
     ]
    },
    {
     "data": {
      "text/plain": [
       "GridSearchCV(cv=StratifiedKFold(n_splits=5, random_state=42, shuffle=True),\n",
       "             estimator=Pipeline(steps=[('tvec', TfidfVectorizer()),\n",
       "                                       ('rf', RandomForestClassifier())]),\n",
       "             n_jobs=-2,\n",
       "             param_grid={'rf__max_depth': [None, 5, 6],\n",
       "                         'rf__max_features': [None, 'auto'],\n",
       "                         'rf__n_estimators': [70, 75, 100],\n",
       "                         'tvec__max_df': [0.5, 0.75],\n",
       "                         'tvec__max_features': [2000, 3000]},\n",
       "             verbose=1)"
      ]
     },
     "execution_count": 22,
     "metadata": {},
     "output_type": "execute_result"
    }
   ],
   "source": [
    "grid_3.fit(X_train, y_train)"
   ]
  },
  {
   "cell_type": "markdown",
   "metadata": {},
   "source": [
    "That was certainly something. Let's look at the best parameters:"
   ]
  },
  {
   "cell_type": "code",
   "execution_count": 23,
   "metadata": {},
   "outputs": [
    {
     "data": {
      "text/plain": [
       "{'rf__max_depth': 5,\n",
       " 'rf__max_features': 'auto',\n",
       " 'rf__n_estimators': 70,\n",
       " 'tvec__max_df': 0.75,\n",
       " 'tvec__max_features': 3000}"
      ]
     },
     "execution_count": 23,
     "metadata": {},
     "output_type": "execute_result"
    }
   ],
   "source": [
    "grid_3.best_params_"
   ]
  },
  {
   "cell_type": "markdown",
   "metadata": {},
   "source": [
    "Very interesting! So, unlike the previous pipeline, our best tvec max df parameter here was .75. Looking at best score:"
   ]
  },
  {
   "cell_type": "code",
   "execution_count": 24,
   "metadata": {},
   "outputs": [
    {
     "data": {
      "text/plain": [
       "0.783859649122807"
      ]
     },
     "execution_count": 24,
     "metadata": {},
     "output_type": "execute_result"
    }
   ],
   "source": [
    "grid_3.best_score_"
   ]
  },
  {
   "cell_type": "markdown",
   "metadata": {},
   "source": [
    "Okay! And, as I hoped, the accuracy score for our TF-IDF/RandomForest model was an improvement over the scores for the TF-IDF/MNB model, the CV/MNB model, and the baseline model! I think we've found our Prince Charmodel. Our knight in shining armodel. The Holy Gramodel. I'm not sorry about any of this, let's look at the confusion matrix and the sensitivity metric:"
   ]
  },
  {
   "cell_type": "code",
   "execution_count": 25,
   "metadata": {},
   "outputs": [],
   "source": [
    "preds_3 = grid_3.predict(X_test)\n",
    "\n",
    "tn, fp, fn, tp = confusion_matrix(y_test, preds_3).ravel()"
   ]
  },
  {
   "cell_type": "code",
   "execution_count": 26,
   "metadata": {},
   "outputs": [
    {
     "data": {
      "image/png": "[encoded data removed]",
      "text/plain": [
       "<Figure size 432x288 with 2 Axes>"
      ]
     },
     "metadata": {
      "needs_background": "light"
     },
     "output_type": "display_data"
    }
   ],
   "source": [
    "plot_confusion_matrix(grid_3, X_test, y_test, cmap='ocean', values_format='d')\n",
    "plt.title('Confusion Matrix for TF-IDF/RandomForest Pipeline')\n",
    "plt.savefig('confusion_rf.png', bbox_inches = 'tight');"
   ]
  },
  {
   "cell_type": "code",
   "execution_count": 27,
   "metadata": {},
   "outputs": [
    {
     "data": {
      "text/plain": [
       "0.9215116279069767"
      ]
     },
     "execution_count": 27,
     "metadata": {},
     "output_type": "execute_result"
    }
   ],
   "source": [
    "tp / (tp + fn)"
   ]
  },
  {
   "cell_type": "markdown",
   "metadata": {},
   "source": [
    "Amazing. Beautiful. Best sensitivity score I've ever seen (in this notebook). To be clear, the sensitivity score is important to me because while I think there COULD be posts in r/creepypasta that are decent, original horror stories like the ones in r/nosleep, I think most of the posts in r/creepypasta are not that kind of high-quality original horror. Therefore, I would expect more r/creepypasta posts to be misidentified as r/nosleep posts than the opposite, so r/nosleep posts - my positive class - being correctly identified is more important to me."
   ]
  },
  {
   "cell_type": "markdown",
   "metadata": {},
   "source": [
    "Now, I'll try a pipeline with TF-IDF and basic Logistic Regression."
   ]
  },
  {
   "cell_type": "code",
   "execution_count": 7,
   "metadata": {},
   "outputs": [],
   "source": [
    "pipe_4 = Pipeline([\n",
    "    ('tvec', TfidfVectorizer()),\n",
    "    ('lr', LogisticRegression())\n",
    "])"
   ]
  },
  {
   "cell_type": "code",
   "execution_count": 8,
   "metadata": {},
   "outputs": [],
   "source": [
    "pipe_4_params = {\n",
    "    'tvec__max_features' : [2000, 3000],\n",
    "    'tvec__max_df' : [.5, .75],\n",
    "    'lr__C' : [1, 1.5, 2]\n",
    "}"
   ]
  },
  {
   "cell_type": "markdown",
   "metadata": {},
   "source": [
    "Okay, so now we'll fit this pipeline to our data. I'm expecting it to take some time, but not nearly as much as RandomForest. Let's see:"
   ]
  },
  {
   "cell_type": "code",
   "execution_count": 11,
   "metadata": {},
   "outputs": [],
   "source": [
    "grid_4 = GridSearchCV(pipe_4,\n",
    "                      pipe_4_params,\n",
    "                      cv = cv_folds,\n",
    "                      verbose = 1,\n",
    "                      n_jobs = -2)"
   ]
  },
  {
   "cell_type": "code",
   "execution_count": 12,
   "metadata": {},
   "outputs": [
    {
     "name": "stdout",
     "output_type": "stream",
     "text": [
      "Fitting 5 folds for each of 12 candidates, totalling 60 fits\n"
     ]
    },
    {
     "name": "stderr",
     "output_type": "stream",
     "text": [
      "[Parallel(n_jobs=-3)]: Using backend LokyBackend with 2 concurrent workers.\n",
      "[Parallel(n_jobs=-3)]: Done  46 tasks      | elapsed:   58.9s\n",
      "[Parallel(n_jobs=-3)]: Done  60 out of  60 | elapsed:  1.3min finished\n"
     ]
    },
    {
     "data": {
      "text/plain": [
       "GridSearchCV(cv=StratifiedKFold(n_splits=5, random_state=42, shuffle=True),\n",
       "             estimator=Pipeline(steps=[('tvec', TfidfVectorizer()),\n",
       "                                       ('lr', LogisticRegression())]),\n",
       "             n_jobs=-3,\n",
       "             param_grid={'lr__C': [1, 1.5, 2], 'tvec__max_df': [0.5, 0.75],\n",
       "                         'tvec__max_features': [2000, 3000]},\n",
       "             verbose=1)"
      ]
     },
     "execution_count": 12,
     "metadata": {},
     "output_type": "execute_result"
    }
   ],
   "source": [
    "grid_4.fit(X_train, y_train)"
   ]
  },
  {
   "cell_type": "markdown",
   "metadata": {},
   "source": [
    "Certainly didn't take as long! But is it as good? Let's see the best parameters:"
   ]
  },
  {
   "cell_type": "code",
   "execution_count": 13,
   "metadata": {},
   "outputs": [
    {
     "data": {
      "text/plain": [
       "{'lr__C': 1.5, 'tvec__max_df': 0.5, 'tvec__max_features': 3000}"
      ]
     },
     "execution_count": 13,
     "metadata": {},
     "output_type": "execute_result"
    }
   ],
   "source": [
    "grid_4.best_params_"
   ]
  },
  {
   "cell_type": "code",
   "execution_count": 15,
   "metadata": {},
   "outputs": [
    {
     "data": {
      "text/plain": [
       "0.7845614035087719"
      ]
     },
     "execution_count": 15,
     "metadata": {},
     "output_type": "execute_result"
    }
   ],
   "source": [
    "grid_4.best_score_"
   ]
  },
  {
   "cell_type": "markdown",
   "metadata": {},
   "source": [
    "So, right off the bat, the best score is slightly worse than the RandomForest accuracy score. However, this model took 1 minute to run vs RandomForest's 45 minutes! Everything's a trade-off. Let's look at the confusion matrix and the sensitivity:"
   ]
  },
  {
   "cell_type": "code",
   "execution_count": 16,
   "metadata": {},
   "outputs": [],
   "source": [
    "preds_4 = grid_4.predict(X_test)\n",
    "\n",
    "tn, fp, fn, tp = confusion_matrix(y_test, preds_4).ravel()"
   ]
  },
  {
   "cell_type": "code",
   "execution_count": 17,
   "metadata": {},
   "outputs": [
    {
     "data": {
      "image/png": "[encoded data removed]",
      "text/plain": [
       "<Figure size 432x288 with 2 Axes>"
      ]
     },
     "metadata": {
      "needs_background": "light"
     },
     "output_type": "display_data"
    }
   ],
   "source": [
    "plot_confusion_matrix(grid_4, X_test, y_test, cmap='ocean', values_format='d')\n",
    "plt.title('Confusion Matrix for TF-IDF/LogReg Pipeline');"
   ]
  },
  {
   "cell_type": "code",
   "execution_count": 18,
   "metadata": {},
   "outputs": [
    {
     "data": {
      "text/plain": [
       "0.8575581395348837"
      ]
     },
     "execution_count": 18,
     "metadata": {},
     "output_type": "execute_result"
    }
   ],
   "source": [
    "tp / (tp + fn)"
   ]
  },
  {
   "cell_type": "markdown",
   "metadata": {},
   "source": [
    "Unfortunatley, the sensitivity is also significantly worse. So, for this particular data, TF-IDF and RandomForest appears to be the best combination."
   ]
  },
  {
   "cell_type": "markdown",
   "metadata": {},
   "source": [
    "So, now that we have a model that seems to be pretty decent at classifying which posts are from r/nosleep and which are from r/creepypasta, we can bring this to the horror novel publisher and let them know that r/nosleep and r/creepypasta are different enough that it matters, and that r/nosleep is almost certainly the better subreddit from which to mine ideas about trends in the horror industry and what audiences might be looking for."
   ]
  }
 ],
 "metadata": {
  "kernelspec": {
   "display_name": "Python 3",
   "language": "python",
   "name": "python3"
  },
  "language_info": {
   "codemirror_mode": {
    "name": "ipython",
    "version": 3
   },
   "file_extension": ".py",
   "mimetype": "text/x-python",
   "name": "python",
   "nbconvert_exporter": "python",
   "pygments_lexer": "ipython3",
   "version": "3.8.3"
  }
 },
 "nbformat": 4,
 "nbformat_minor": 4
}
