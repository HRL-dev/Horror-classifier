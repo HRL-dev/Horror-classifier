{
 "cells": [
  {
   "cell_type": "markdown",
   "metadata": {},
   "source": [
    "Importing libraries:"
   ]
  },
  {
   "cell_type": "code",
   "execution_count": 18,
   "metadata": {},
   "outputs": [],
   "source": [
    "import pandas as pd\n",
    "import numpy as np\n",
    "import matplotlib.pyplot as plt\n",
    "import seaborn\n",
    "\n",
    "from nltk.tokenize import RegexpTokenizer\n",
    "from nltk.corpus import stopwords\n",
    "\n",
    "from sklearn.feature_extraction.text import CountVectorizer, TfidfVectorizer\n",
    "from sklearn.model_selection import train_test_split, GridSearchCV"
   ]
  },
  {
   "cell_type": "markdown",
   "metadata": {},
   "source": [
    "In this notebook, I'll be exploring my data and comparing the counts of words between the two subreddits."
   ]
  },
  {
   "cell_type": "code",
   "execution_count": 2,
   "metadata": {},
   "outputs": [],
   "source": [
    "# Reading in the data:\n",
    "\n",
    "horror = pd.read_csv('./Data/combo.csv')"
   ]
  },
  {
   "cell_type": "markdown",
   "metadata": {},
   "source": [
    "I'm going to attempt to determine the most common terms/words/topics between the r/nosleep and r/creepypasta subreddit. In the modeling notebook, I'll be testing to see if a model can differentiate between them. I'll also be using this notebook to determine if I have enough data from my grabbing_data notebook, and whether I need more posts to find clearer commonality."
   ]
  },
  {
   "cell_type": "code",
   "execution_count": 3,
   "metadata": {},
   "outputs": [
    {
     "data": {
      "text/html": [
       "<div>\n",
       "<style scoped>\n",
       "    .dataframe tbody tr th:only-of-type {\n",
       "        vertical-align: middle;\n",
       "    }\n",
       "\n",
       "    .dataframe tbody tr th {\n",
       "        vertical-align: top;\n",
       "    }\n",
       "\n",
       "    .dataframe thead th {\n",
       "        text-align: right;\n",
       "    }\n",
       "</style>\n",
       "<table border=\"1\" class=\"dataframe\">\n",
       "  <thead>\n",
       "    <tr style=\"text-align: right;\">\n",
       "      <th></th>\n",
       "      <th>subreddit</th>\n",
       "      <th>title</th>\n",
       "      <th>selftext</th>\n",
       "    </tr>\n",
       "  </thead>\n",
       "  <tbody>\n",
       "    <tr>\n",
       "      <th>0</th>\n",
       "      <td>nosleep</td>\n",
       "      <td>Biter</td>\n",
       "      <td>I hope I titled this right, because that's wh...</td>\n",
       "    </tr>\n",
       "    <tr>\n",
       "      <th>1</th>\n",
       "      <td>nosleep</td>\n",
       "      <td>Jacob</td>\n",
       "      <td>As the new school year approached,  my son’s f...</td>\n",
       "    </tr>\n",
       "    <tr>\n",
       "      <th>2</th>\n",
       "      <td>nosleep</td>\n",
       "      <td>The isolation</td>\n",
       "      <td>\\n\\nSince I’ve been at home, I’ve been readi...</td>\n",
       "    </tr>\n",
       "    <tr>\n",
       "      <th>3</th>\n",
       "      <td>nosleep</td>\n",
       "      <td>Music Box</td>\n",
       "      <td>When I was younger, I was super into all thing...</td>\n",
       "    </tr>\n",
       "    <tr>\n",
       "      <th>4</th>\n",
       "      <td>nosleep</td>\n",
       "      <td>A new Instagram influencer is obsessed with me...</td>\n",
       "      <td>Tiffany Fontaine. I loved her name because it ...</td>\n",
       "    </tr>\n",
       "  </tbody>\n",
       "</table>\n",
       "</div>"
      ],
      "text/plain": [
       "  subreddit                                              title  \\\n",
       "0   nosleep                                              Biter   \n",
       "1   nosleep                                              Jacob   \n",
       "2   nosleep                                      The isolation   \n",
       "3   nosleep                                          Music Box   \n",
       "4   nosleep  A new Instagram influencer is obsessed with me...   \n",
       "\n",
       "                                            selftext  \n",
       "0   I hope I titled this right, because that's wh...  \n",
       "1  As the new school year approached,  my son’s f...  \n",
       "2    \\n\\nSince I’ve been at home, I’ve been readi...  \n",
       "3  When I was younger, I was super into all thing...  \n",
       "4  Tiffany Fontaine. I loved her name because it ...  "
      ]
     },
     "execution_count": 3,
     "metadata": {},
     "output_type": "execute_result"
    }
   ],
   "source": [
    "horror.head()"
   ]
  },
  {
   "cell_type": "markdown",
   "metadata": {},
   "source": [
    "Turning my subreddit column into a binary:"
   ]
  },
  {
   "cell_type": "code",
   "execution_count": 4,
   "metadata": {},
   "outputs": [],
   "source": [
    "horror.subreddit = horror.subreddit.map(dict(nosleep = 1, creepypasta = 0))"
   ]
  },
  {
   "cell_type": "code",
   "execution_count": 5,
   "metadata": {},
   "outputs": [
    {
     "data": {
      "text/html": [
       "<div>\n",
       "<style scoped>\n",
       "    .dataframe tbody tr th:only-of-type {\n",
       "        vertical-align: middle;\n",
       "    }\n",
       "\n",
       "    .dataframe tbody tr th {\n",
       "        vertical-align: top;\n",
       "    }\n",
       "\n",
       "    .dataframe thead th {\n",
       "        text-align: right;\n",
       "    }\n",
       "</style>\n",
       "<table border=\"1\" class=\"dataframe\">\n",
       "  <thead>\n",
       "    <tr style=\"text-align: right;\">\n",
       "      <th></th>\n",
       "      <th>subreddit</th>\n",
       "      <th>title</th>\n",
       "      <th>selftext</th>\n",
       "    </tr>\n",
       "  </thead>\n",
       "  <tbody>\n",
       "    <tr>\n",
       "      <th>0</th>\n",
       "      <td>1</td>\n",
       "      <td>Biter</td>\n",
       "      <td>I hope I titled this right, because that's wh...</td>\n",
       "    </tr>\n",
       "    <tr>\n",
       "      <th>1</th>\n",
       "      <td>1</td>\n",
       "      <td>Jacob</td>\n",
       "      <td>As the new school year approached,  my son’s f...</td>\n",
       "    </tr>\n",
       "    <tr>\n",
       "      <th>2</th>\n",
       "      <td>1</td>\n",
       "      <td>The isolation</td>\n",
       "      <td>\\n\\nSince I’ve been at home, I’ve been readi...</td>\n",
       "    </tr>\n",
       "    <tr>\n",
       "      <th>3</th>\n",
       "      <td>1</td>\n",
       "      <td>Music Box</td>\n",
       "      <td>When I was younger, I was super into all thing...</td>\n",
       "    </tr>\n",
       "    <tr>\n",
       "      <th>4</th>\n",
       "      <td>1</td>\n",
       "      <td>A new Instagram influencer is obsessed with me...</td>\n",
       "      <td>Tiffany Fontaine. I loved her name because it ...</td>\n",
       "    </tr>\n",
       "  </tbody>\n",
       "</table>\n",
       "</div>"
      ],
      "text/plain": [
       "   subreddit                                              title  \\\n",
       "0          1                                              Biter   \n",
       "1          1                                              Jacob   \n",
       "2          1                                      The isolation   \n",
       "3          1                                          Music Box   \n",
       "4          1  A new Instagram influencer is obsessed with me...   \n",
       "\n",
       "                                            selftext  \n",
       "0   I hope I titled this right, because that's wh...  \n",
       "1  As the new school year approached,  my son’s f...  \n",
       "2    \\n\\nSince I’ve been at home, I’ve been readi...  \n",
       "3  When I was younger, I was super into all thing...  \n",
       "4  Tiffany Fontaine. I loved her name because it ...  "
      ]
     },
     "execution_count": 5,
     "metadata": {},
     "output_type": "execute_result"
    }
   ],
   "source": [
    "horror.head()"
   ]
  },
  {
   "cell_type": "markdown",
   "metadata": {},
   "source": [
    "Pre-processing and cleaning:"
   ]
  },
  {
   "cell_type": "code",
   "execution_count": 6,
   "metadata": {},
   "outputs": [
    {
     "data": {
      "text/plain": [
       "subreddit    0\n",
       "title        0\n",
       "selftext     0\n",
       "dtype: int64"
      ]
     },
     "execution_count": 6,
     "metadata": {},
     "output_type": "execute_result"
    }
   ],
   "source": [
    "horror.isnull().sum()"
   ]
  },
  {
   "cell_type": "code",
   "execution_count": 11,
   "metadata": {},
   "outputs": [],
   "source": [
    "horror['selftext'] = [text.lower() for text in horror.selftext]"
   ]
  },
  {
   "cell_type": "markdown",
   "metadata": {},
   "source": [
    "Instantiating CountVectorizer:"
   ]
  },
  {
   "cell_type": "code",
   "execution_count": 167,
   "metadata": {},
   "outputs": [],
   "source": [
    "cvec = CountVectorizer()"
   ]
  },
  {
   "cell_type": "code",
   "execution_count": 168,
   "metadata": {},
   "outputs": [],
   "source": [
    "X = horror['selftext']"
   ]
  },
  {
   "cell_type": "code",
   "execution_count": 169,
   "metadata": {},
   "outputs": [
    {
     "data": {
      "text/plain": [
       "CountVectorizer()"
      ]
     },
     "execution_count": 169,
     "metadata": {},
     "output_type": "execute_result"
    }
   ],
   "source": [
    "cvec.fit(X)"
   ]
  },
  {
   "cell_type": "code",
   "execution_count": 170,
   "metadata": {},
   "outputs": [],
   "source": [
    "X = cvec.transform(X)"
   ]
  },
  {
   "cell_type": "markdown",
   "metadata": {},
   "source": [
    "Now, I'll turn my data into a dataframe and plot the most commonly occuring words in the reddit posts:"
   ]
  },
  {
   "cell_type": "code",
   "execution_count": 171,
   "metadata": {},
   "outputs": [
    {
     "data": {
      "image/png": "[encoded data removed]",
      "text/plain": [
       "<Figure size 576x432 with 1 Axes>"
      ]
     },
     "metadata": {
      "needs_background": "light"
     },
     "output_type": "display_data"
    }
   ],
   "source": [
    "X_df = pd.DataFrame(X.todense(), \n",
    "                          columns=cvec.get_feature_names())\n",
    "                        \n",
    "X_df.sum().sort_values(ascending = False).head(10).plot(kind = 'barh', figsize = (8,6))\n",
    "\n",
    "plt.title('Most Commonly Occuring Words', fontsize = 15)\n",
    "\n",
    "plt.xlabel('Number of times word occurs', fontsize = 12)\n",
    "plt.ylabel('Words', fontsize = 12)\n",
    "\n",
    "plt.savefig('baseline_words.png', bbox_inches = 'tight');"
   ]
  },
  {
   "cell_type": "markdown",
   "metadata": {},
   "source": [
    "Unsurprisingly, the most common words are small words that should be cleaned out by some sort of stopwords package or a min_df/max_df parameter. I'll try transforming with those parameters next. Mildly interesting to note: \"me\" and \"my\" are very common in these posts because most of the stories are written in the first-person perspective."
   ]
  },
  {
   "cell_type": "code",
   "execution_count": 172,
   "metadata": {},
   "outputs": [],
   "source": [
    "cvec_2 = CountVectorizer(stop_words = 'english')"
   ]
  },
  {
   "cell_type": "markdown",
   "metadata": {},
   "source": [
    "Re-defining X to fit to the new model:"
   ]
  },
  {
   "cell_type": "code",
   "execution_count": 173,
   "metadata": {},
   "outputs": [],
   "source": [
    "X = horror['selftext']"
   ]
  },
  {
   "cell_type": "code",
   "execution_count": 174,
   "metadata": {},
   "outputs": [
    {
     "data": {
      "text/plain": [
       "CountVectorizer(stop_words='english')"
      ]
     },
     "execution_count": 174,
     "metadata": {},
     "output_type": "execute_result"
    }
   ],
   "source": [
    "cvec_2.fit(X)"
   ]
  },
  {
   "cell_type": "code",
   "execution_count": 175,
   "metadata": {},
   "outputs": [],
   "source": [
    "X = cvec_2.transform(X)"
   ]
  },
  {
   "cell_type": "markdown",
   "metadata": {},
   "source": [
    "Fitting to a dataframe again and plotting to see the results:"
   ]
  },
  {
   "cell_type": "code",
   "execution_count": 176,
   "metadata": {},
   "outputs": [
    {
     "data": {
      "image/png": "[encoded data removed]",
      "text/plain": [
       "<Figure size 648x432 with 1 Axes>"
      ]
     },
     "metadata": {
      "needs_background": "light"
     },
     "output_type": "display_data"
    }
   ],
   "source": [
    "X_df_2 = pd.DataFrame(X.todense(), \n",
    "                          columns=cvec_2.get_feature_names())\n",
    "                        \n",
    "X_df_2.sum().sort_values(ascending = False).head(10).plot(kind = 'barh', figsize = (9,6))\n",
    "\n",
    "plt.title('Most Common Words (with stopwords)', fontsize = 15)\n",
    "\n",
    "plt.xlabel('Number of times word occurs', fontsize = 12)\n",
    "plt.ylabel('Words', fontsize = 12)\n",
    "\n",
    "plt.savefig('stopwords_words.png', bbox_inches = 'tight');"
   ]
  },
  {
   "cell_type": "markdown",
   "metadata": {},
   "source": [
    "Okay, a few more mildly interesting developments: \"time\", \"door\", and \"eyes\" are kind of cool as common horror concepts. They're also our first nouns! However, I don't think the horror novel publisher would be too pleased with this list. It's pretty boring. Time to add more parameters to our CountVectorizer."
   ]
  },
  {
   "cell_type": "code",
   "execution_count": 44,
   "metadata": {},
   "outputs": [
    {
     "data": {
      "text/plain": [
       "(2128, 38042)"
      ]
     },
     "execution_count": 44,
     "metadata": {},
     "output_type": "execute_result"
    }
   ],
   "source": [
    "X_df_2.shape"
   ]
  },
  {
   "cell_type": "markdown",
   "metadata": {},
   "source": [
    "That is too many features."
   ]
  },
  {
   "cell_type": "code",
   "execution_count": 177,
   "metadata": {},
   "outputs": [],
   "source": [
    "cvec_3 = CountVectorizer(stop_words = 'english', max_df = .50, max_features = 1000)"
   ]
  },
  {
   "cell_type": "code",
   "execution_count": 178,
   "metadata": {},
   "outputs": [],
   "source": [
    "X = horror['selftext']"
   ]
  },
  {
   "cell_type": "code",
   "execution_count": 180,
   "metadata": {},
   "outputs": [
    {
     "data": {
      "text/plain": [
       "CountVectorizer(max_df=0.5, max_features=1000, stop_words='english')"
      ]
     },
     "execution_count": 180,
     "metadata": {},
     "output_type": "execute_result"
    }
   ],
   "source": [
    "cvec_3.fit(X)"
   ]
  },
  {
   "cell_type": "code",
   "execution_count": 181,
   "metadata": {},
   "outputs": [],
   "source": [
    "X = cvec_3.transform(X)"
   ]
  },
  {
   "cell_type": "code",
   "execution_count": 182,
   "metadata": {},
   "outputs": [
    {
     "data": {
      "image/png": "[encoded data removed]",
      "text/plain": [
       "<Figure size 648x432 with 1 Axes>"
      ]
     },
     "metadata": {
      "needs_background": "light"
     },
     "output_type": "display_data"
    }
   ],
   "source": [
    "X_df_3 = pd.DataFrame(X.todense(), \n",
    "                          columns=cvec_3.get_feature_names())\n",
    "                        \n",
    "X_df_3.sum().sort_values(ascending = False).head(10).plot(kind = 'barh', figsize = (9,6))\n",
    "\n",
    "plt.title('Most Common Words (max_df = .5)', fontsize = 15)\n",
    "\n",
    "plt.xlabel('Number of times word occurs', fontsize = 12)\n",
    "plt.ylabel('Words', fontsize = 12)\n",
    "\n",
    "plt.savefig('max_df_fifty_words.png', bbox_inches = 'tight');"
   ]
  },
  {
   "cell_type": "markdown",
   "metadata": {},
   "source": [
    "Well, it took me a few iterations of the max_df parameter, but now we're getting somewhere: \"face,\" \"head,\" \"night,\" \"house\" - those are definitely closer to \"trending horror topics.\" Let's skim a bit further and see what we find."
   ]
  },
  {
   "cell_type": "code",
   "execution_count": 183,
   "metadata": {},
   "outputs": [],
   "source": [
    "cvec_4 = CountVectorizer(stop_words = 'english', max_df = .25, max_features = 1000)"
   ]
  },
  {
   "cell_type": "code",
   "execution_count": 184,
   "metadata": {},
   "outputs": [],
   "source": [
    "X = horror['selftext']"
   ]
  },
  {
   "cell_type": "code",
   "execution_count": 185,
   "metadata": {},
   "outputs": [
    {
     "data": {
      "text/plain": [
       "CountVectorizer(max_df=0.25, max_features=1000, stop_words='english')"
      ]
     },
     "execution_count": 185,
     "metadata": {},
     "output_type": "execute_result"
    }
   ],
   "source": [
    "cvec_4.fit(X)"
   ]
  },
  {
   "cell_type": "code",
   "execution_count": 186,
   "metadata": {},
   "outputs": [],
   "source": [
    "X = cvec_4.transform(X)"
   ]
  },
  {
   "cell_type": "code",
   "execution_count": 187,
   "metadata": {},
   "outputs": [
    {
     "data": {
      "image/png": "[encoded data removed]",
      "text/plain": [
       "<Figure size 648x432 with 1 Axes>"
      ]
     },
     "metadata": {
      "needs_background": "light"
     },
     "output_type": "display_data"
    }
   ],
   "source": [
    "X_df_4 = pd.DataFrame(X.todense(), \n",
    "                          columns=cvec_4.get_feature_names())\n",
    "                        \n",
    "X_df_4.sum().sort_values(ascending = False).head(10).plot(kind = 'barh', figsize = (9,6))\n",
    "\n",
    "plt.title('Most Common Words (max_df = .25)', fontsize = 15)\n",
    "\n",
    "plt.xlabel('Number of times word occurs', fontsize = 12)\n",
    "plt.ylabel('Words', fontsize = 12)\n",
    "\n",
    "plt.savefig('max_df_25_words.png', bbox_inches = 'tight');"
   ]
  },
  {
   "cell_type": "markdown",
   "metadata": {},
   "source": [
    "Okay, so there's definitely a parent theme going on here. That could certainly be of note to the publisher - \"recent horror stories on r/nosleep and r/creepypasta very frequently contain themes relating to parents.\" Let's go a little deeper:"
   ]
  },
  {
   "cell_type": "code",
   "execution_count": 190,
   "metadata": {},
   "outputs": [],
   "source": [
    "cvec_5 = CountVectorizer(stop_words = 'english', max_df = .15, max_features = 1000)"
   ]
  },
  {
   "cell_type": "code",
   "execution_count": 191,
   "metadata": {},
   "outputs": [],
   "source": [
    "X = horror['selftext']"
   ]
  },
  {
   "cell_type": "code",
   "execution_count": 192,
   "metadata": {},
   "outputs": [
    {
     "data": {
      "text/plain": [
       "CountVectorizer(max_df=0.15, max_features=1000, stop_words='english')"
      ]
     },
     "execution_count": 192,
     "metadata": {},
     "output_type": "execute_result"
    }
   ],
   "source": [
    "cvec_5.fit(X)"
   ]
  },
  {
   "cell_type": "code",
   "execution_count": 193,
   "metadata": {},
   "outputs": [],
   "source": [
    "X = cvec_5.transform(X)"
   ]
  },
  {
   "cell_type": "code",
   "execution_count": 194,
   "metadata": {},
   "outputs": [
    {
     "data": {
      "image/png": "[encoded data removed]",
      "text/plain": [
       "<Figure size 648x432 with 1 Axes>"
      ]
     },
     "metadata": {
      "needs_background": "light"
     },
     "output_type": "display_data"
    }
   ],
   "source": [
    "X_df_5 = pd.DataFrame(X.todense(), \n",
    "                          columns=cvec_5.get_feature_names())\n",
    "                        \n",
    "X_df_5.sum().sort_values(ascending = False).head(10).plot(kind = 'barh', figsize = (9,6))\n",
    "\n",
    "plt.title('Most Common Words (max_df = .15)', fontsize = 15)\n",
    "\n",
    "plt.xlabel('Number of times word occurs', fontsize = 12)\n",
    "plt.ylabel('Words', fontsize = 12)\n",
    "plt.savefig('max_df_15_words.png', bbox_inches = 'tight');"
   ]
  },
  {
   "cell_type": "markdown",
   "metadata": {},
   "source": [
    "Now, we're really getting down to it. \"Game\" is especially interesting to me - a few recent horror movies have been based around games (Truth or Dare (2018), Ready or Not (2019)). One of the most famous horror film series of the last decade, the Saw films, sees its main antagonist telling victims, \"I want to play a game.\" \"Game\" as a common, trending topic in recent self-published horror stories is very significant to me. \"Creature\" and \"woods\" are also important to note. Going even a little more specific:"
   ]
  },
  {
   "cell_type": "code",
   "execution_count": 195,
   "metadata": {},
   "outputs": [],
   "source": [
    "cvec_6 = CountVectorizer(stop_words = 'english', max_df = .1, max_features = 1000)"
   ]
  },
  {
   "cell_type": "code",
   "execution_count": 196,
   "metadata": {},
   "outputs": [],
   "source": [
    "X = horror['selftext']"
   ]
  },
  {
   "cell_type": "code",
   "execution_count": 197,
   "metadata": {},
   "outputs": [
    {
     "data": {
      "text/plain": [
       "CountVectorizer(max_df=0.1, max_features=1000, stop_words='english')"
      ]
     },
     "execution_count": 197,
     "metadata": {},
     "output_type": "execute_result"
    }
   ],
   "source": [
    "cvec_6.fit(X)"
   ]
  },
  {
   "cell_type": "code",
   "execution_count": 198,
   "metadata": {},
   "outputs": [],
   "source": [
    "X = cvec_6.transform(X)"
   ]
  },
  {
   "cell_type": "code",
   "execution_count": 199,
   "metadata": {},
   "outputs": [
    {
     "data": {
      "image/png": "[encoded data removed]",
      "text/plain": [
       "<Figure size 648x432 with 1 Axes>"
      ]
     },
     "metadata": {
      "needs_background": "light"
     },
     "output_type": "display_data"
    }
   ],
   "source": [
    "X_df_6 = pd.DataFrame(X.todense(), \n",
    "                          columns=cvec_6.get_feature_names())\n",
    "                        \n",
    "X_df_6.sum().sort_values(ascending = False).head(10).plot(kind = 'barh', figsize = (9,6))\n",
    "\n",
    "plt.title('Most Common Words (max_df = .1)', fontsize = 15)\n",
    "\n",
    "plt.xlabel('Number of times word occurs', fontsize = 12)\n",
    "plt.ylabel('Words', fontsize = 12)\n",
    "plt.savefig('max_df_10_words.png', bbox_inches = 'tight');"
   ]
  },
  {
   "cell_type": "markdown",
   "metadata": {},
   "source": [
    "Blatantly ignoring some of the more X-rated topics here, we have some very interesting developments: \"basement,\" \"truck,\" \"doctor,\" and \"video.\" \"Video\" has been a popular topic in horror films and books since the invention of the VHS format, but it became even more popular after 2002's The Ring (a remake of 1998's Ringu (Japanese), itself an adaptation of Koji Suzuki's 1991 novel of the same name), one of the most popular and well-known horror movies of the 21st century."
   ]
  },
  {
   "cell_type": "markdown",
   "metadata": {},
   "source": [
    "Of course, denying the existence of the more explicit topics can't be done forever - it is important for the horror publisher to know that many members of their audience are interested in more Adult content in general."
   ]
  },
  {
   "cell_type": "markdown",
   "metadata": {},
   "source": [
    "Let's just refine it even more:"
   ]
  },
  {
   "cell_type": "code",
   "execution_count": 146,
   "metadata": {},
   "outputs": [],
   "source": [
    "cvec_7 = CountVectorizer(stop_words = 'english', max_df = .05, max_features = 1000)"
   ]
  },
  {
   "cell_type": "code",
   "execution_count": 147,
   "metadata": {},
   "outputs": [],
   "source": [
    "X = horror['selftext']"
   ]
  },
  {
   "cell_type": "code",
   "execution_count": 148,
   "metadata": {},
   "outputs": [
    {
     "data": {
      "text/plain": [
       "CountVectorizer(max_df=0.05, max_features=1000, stop_words='english')"
      ]
     },
     "execution_count": 148,
     "metadata": {},
     "output_type": "execute_result"
    }
   ],
   "source": [
    "cvec_7.fit(X)"
   ]
  },
  {
   "cell_type": "code",
   "execution_count": 149,
   "metadata": {},
   "outputs": [],
   "source": [
    "X = cvec_7.transform(X)"
   ]
  },
  {
   "cell_type": "code",
   "execution_count": 150,
   "metadata": {},
   "outputs": [
    {
     "data": {
      "image/png": "[encoded data removed]",
      "text/plain": [
       "<Figure size 648x432 with 1 Axes>"
      ]
     },
     "metadata": {
      "needs_background": "light"
     },
     "output_type": "display_data"
    }
   ],
   "source": [
    "X_df_7 = pd.DataFrame(X.todense(), \n",
    "                          columns=cvec_7.get_feature_names())\n",
    "                        \n",
    "X_df_7.sum().sort_values(ascending = False).head(10).plot(kind = 'barh', figsize = (9,6))\n",
    "\n",
    "plt.title('Most Common Words (max_df = .05)', fontsize = 15)\n",
    "\n",
    "plt.xlabel('Number of times word occurs', fontsize = 12)\n",
    "plt.ylabel('Words', fontsize = 12);"
   ]
  },
  {
   "cell_type": "markdown",
   "metadata": {},
   "source": [
    "Okay, so a max_df of .05 is maybe a little bit too specific, and we can see that we've turned to commonly-used first names. However, we've also come up with \"cabin,\" which I think is useful - cabins are an important trope in the horror genre, as they usually bring along a sense of isolation that can contribute to the story. Many successful horror media items have been based entirely in cabins, including the 2002 film Cabin Fever, the 2011 film Cabin in the Woods (a subversion of the trope and the genre as a whole), and Paul Tremblay's 2018 postapocalyptiv horror novel, The Cabin at the End of the World."
   ]
  },
  {
   "cell_type": "markdown",
   "metadata": {},
   "source": [
    "Also interesting to note that all of these refinements of the transformer model, \"wife\"/\"mother\" have been included in more stories than \"husband\"/\"father\" (except for \"brother\" being indluded in more than \"sister,\" which is interesting), which likely speaks more to the demograohic writing (and, therefore, reading) these stories than anything else."
   ]
  },
  {
   "cell_type": "markdown",
   "metadata": {},
   "source": [
    "For my last simple transformer, I'm going to go back to a higher max_df but also include n-grams, just to see if there are any interesting combinations of two words that are common."
   ]
  },
  {
   "cell_type": "code",
   "execution_count": 151,
   "metadata": {},
   "outputs": [],
   "source": [
    "cvec_8 = CountVectorizer(stop_words = 'english', max_df = .15, max_features = 1000,\n",
    "                        ngram_range = (1,2))"
   ]
  },
  {
   "cell_type": "code",
   "execution_count": 152,
   "metadata": {},
   "outputs": [],
   "source": [
    "X = horror['selftext']"
   ]
  },
  {
   "cell_type": "code",
   "execution_count": 153,
   "metadata": {},
   "outputs": [
    {
     "data": {
      "text/plain": [
       "CountVectorizer(max_df=0.15, max_features=1000, ngram_range=(1, 2),\n",
       "                stop_words='english')"
      ]
     },
     "execution_count": 153,
     "metadata": {},
     "output_type": "execute_result"
    }
   ],
   "source": [
    "cvec_8.fit(X)"
   ]
  },
  {
   "cell_type": "code",
   "execution_count": 154,
   "metadata": {},
   "outputs": [],
   "source": [
    "X = cvec_8.transform(X)"
   ]
  },
  {
   "cell_type": "code",
   "execution_count": 155,
   "metadata": {},
   "outputs": [
    {
     "data": {
      "image/png": "[encoded data removed]",
      "text/plain": [
       "<Figure size 648x432 with 1 Axes>"
      ]
     },
     "metadata": {
      "needs_background": "light"
     },
     "output_type": "display_data"
    }
   ],
   "source": [
    "X_df_8 = pd.DataFrame(X.todense(), \n",
    "                          columns=cvec_8.get_feature_names())\n",
    "                        \n",
    "X_df_8.sum().sort_values(ascending = False).head(10).plot(kind = 'barh', figsize = (9,6))\n",
    "\n",
    "plt.title('Most Common Words (max_df = .15, ngrams = (1,2))', fontsize = 15)\n",
    "\n",
    "plt.xlabel('Number of times word occurs', fontsize = 12)\n",
    "plt.ylabel('Words', fontsize = 12);"
   ]
  },
  {
   "cell_type": "markdown",
   "metadata": {},
   "source": [
    "Well. Let's just up the max_df and see if we get anything interesting there. I'm also going to define a new stopwords list that will count out 'amp' and 'x200b,' which are apparently, when used together, a method for creating white space in a reddit post."
   ]
  },
  {
   "cell_type": "code",
   "execution_count": 223,
   "metadata": {},
   "outputs": [],
   "source": [
    "words = ['amp', 'x200b']"
   ]
  },
  {
   "cell_type": "code",
   "execution_count": 218,
   "metadata": {},
   "outputs": [],
   "source": [
    "cvec_9 = CountVectorizer(stop_words = words, max_df = .35, max_features = 1000,\n",
    "                        ngram_range = (1,2))"
   ]
  },
  {
   "cell_type": "code",
   "execution_count": 219,
   "metadata": {},
   "outputs": [],
   "source": [
    "X = horror['selftext']"
   ]
  },
  {
   "cell_type": "code",
   "execution_count": 220,
   "metadata": {},
   "outputs": [
    {
     "data": {
      "text/plain": [
       "CountVectorizer(max_df=0.35, max_features=1000, ngram_range=(1, 2),\n",
       "                stop_words=['amp', 'x200b'])"
      ]
     },
     "execution_count": 220,
     "metadata": {},
     "output_type": "execute_result"
    }
   ],
   "source": [
    "cvec_9.fit(X)"
   ]
  },
  {
   "cell_type": "code",
   "execution_count": 221,
   "metadata": {},
   "outputs": [],
   "source": [
    "X = cvec_9.transform(X)"
   ]
  },
  {
   "cell_type": "code",
   "execution_count": 222,
   "metadata": {},
   "outputs": [
    {
     "data": {
      "image/png": "[encoded data removed]",
      "text/plain": [
       "<Figure size 648x432 with 1 Axes>"
      ]
     },
     "metadata": {
      "needs_background": "light"
     },
     "output_type": "display_data"
    }
   ],
   "source": [
    "X_df_9 = pd.DataFrame(X.todense(), \n",
    "                          columns=cvec_9.get_feature_names())\n",
    "                        \n",
    "X_df_9.sum().sort_values(ascending = False).head(10).plot(kind = 'barh', figsize = (9,6))\n",
    "\n",
    "plt.title('Most Common Words (max_df = .35, ngrams = (1,2))', fontsize = 15)\n",
    "\n",
    "plt.xlabel('Number of times word occurs', fontsize = 12)\n",
    "plt.ylabel('Words', fontsize = 12)\n",
    "plt.savefig('max_df_35_words.png', bbox_inches = 'tight');"
   ]
  },
  {
   "cell_type": "markdown",
   "metadata": {},
   "source": [
    "Ooh, we have some very interesting developments here that we may have missed by not doing max_df = .35 before. Not so interesting on the n-gram front, but we now have \"light,\" \"bed,\" \"blood,\" and my favorite, \"phone.\" Phones are tricky things in the horror universe: they're a connection, but a distant one. The person on the other end of the line can't help you if you're in a dire situation. On the other hand, you never really know where the caller is, so they may be closer than you think - thus the famous \"the call is coming from inside the house\" story, and the iconic opening sequence of the 1996 film Scream. "
   ]
  },
  {
   "cell_type": "markdown",
   "metadata": {},
   "source": [
    "I also love \"light\" as a common topic, because while the trope may be that turning on the light can save you from what lurks in the dark, how much scarier are horrific things done in broad daylight? Case in point: the 2019 A24 film Midsommar, otherwise known as the lightest, brightest horror movie I've ever seen."
   ]
  },
  {
   "cell_type": "markdown",
   "metadata": {},
   "source": [
    "Let's try one more, setting the max_df to .30, which we haven't tried before, because I'm getting the impression that .25 - .4 is the sweet spot for interesting topics."
   ]
  },
  {
   "cell_type": "code",
   "execution_count": 212,
   "metadata": {},
   "outputs": [],
   "source": [
    "cvec_10 = CountVectorizer(stop_words = words, max_df = .3, max_features = 1000)"
   ]
  },
  {
   "cell_type": "code",
   "execution_count": 213,
   "metadata": {},
   "outputs": [],
   "source": [
    "X = horror['selftext']"
   ]
  },
  {
   "cell_type": "code",
   "execution_count": 214,
   "metadata": {},
   "outputs": [
    {
     "data": {
      "text/plain": [
       "CountVectorizer(max_df=0.3, max_features=1000, stop_words=['amp', 'x200b'])"
      ]
     },
     "execution_count": 214,
     "metadata": {},
     "output_type": "execute_result"
    }
   ],
   "source": [
    "cvec_10.fit(X)"
   ]
  },
  {
   "cell_type": "code",
   "execution_count": 215,
   "metadata": {},
   "outputs": [],
   "source": [
    "X = cvec_10.transform(X)"
   ]
  },
  {
   "cell_type": "code",
   "execution_count": 217,
   "metadata": {},
   "outputs": [
    {
     "data": {
      "image/png": "[encoded data removed]",
      "text/plain": [
       "<Figure size 648x432 with 1 Axes>"
      ]
     },
     "metadata": {
      "needs_background": "light"
     },
     "output_type": "display_data"
    }
   ],
   "source": [
    "X_df_10 = pd.DataFrame(X.todense(), \n",
    "                          columns=cvec_10.get_feature_names())\n",
    "                        \n",
    "X_df_10.sum().sort_values(ascending = False).head(10).plot(kind = 'barh', figsize = (9,6))\n",
    "\n",
    "plt.title('Most Common Words (max_df = .3)', fontsize = 15)\n",
    "\n",
    "plt.xlabel('Number of times word occurs', fontsize = 12)\n",
    "plt.ylabel('Words', fontsize = 12);"
   ]
  },
  {
   "cell_type": "markdown",
   "metadata": {},
   "source": [
    "Okay, so most of these we've seen before, but I do love \"window\" as a new concept (similar to the phone, it  projects an impression of safety because it seems like a barrier, but is easily broken or creepily stared-through by something unwanted). We're also back to \"mother\" and \"dad,\" so Freud would dine out for weeks on this."
   ]
  },
  {
   "cell_type": "markdown",
   "metadata": {},
   "source": [
    "Looking over this notebook, it appears that our most common (interesting) topics that we can report to the publisher are \"game,\" \"cabin,\" \"video,\" \"woods,\" \"creature,\" \"phone,\" \"light,\" a strong parental theme, and a trend towards rather \"adult\" topics."
   ]
  }
 ],
 "metadata": {
  "kernelspec": {
   "display_name": "Python 3",
   "language": "python",
   "name": "python3"
  },
  "language_info": {
   "codemirror_mode": {
    "name": "ipython",
    "version": 3
   },
   "file_extension": ".py",
   "mimetype": "text/x-python",
   "name": "python",
   "nbconvert_exporter": "python",
   "pygments_lexer": "ipython3",
   "version": "3.8.3"
  }
 },
 "nbformat": 4,
 "nbformat_minor": 4
}
